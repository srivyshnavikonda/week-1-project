{
 "cells": [
  {
   "cell_type": "code",
   "execution_count": 23,
   "id": "721cc136",
   "metadata": {},
   "outputs": [],
   "source": [
    "n = float(input(\"enter the value of n:\"))\n",
    "print(\"the value of n is:\",n)\n"
   ]
  },
  {
   "cell_type": "code",
   "execution_count": null,
   "id": "156bde10",
   "metadata": {},
   "outputs": [],
   "source": [
    "while True:\n",
    "    # Take input from the user\n",
    "    n = float(input(\"Enter the value of n: \"))\n",
    "    \n",
    "    # Check if the input value is an integer\n",
    "    if n.is_integer():\n",
    "        # Convert n to an integer if it's an integer value\n",
    "        n = int(n)\n",
    "        break\n",
    "    else:\n",
    "        print(f\"n={n} is not an integer\")\n",
    "\n",
    "# Check if n is even or odd and print the result\n",
    "if n % 2 == 0:\n",
    "    print(f\"n={n} is even\")\n",
    "else:\n",
    "    print(f\"n={n} is odd\")"
   ]
  }
 ],
 "metadata": {
  "kernelspec": {
   "display_name": "Python 3 (ipykernel)",
   "language": "python",
   "name": "python3"
  },
  "language_info": {
   "codemirror_mode": {
    "name": "ipython",
    "version": 3
   },
   "file_extension": ".py",
   "mimetype": "text/x-python",
   "name": "python",
   "nbconvert_exporter": "python",
   "pygments_lexer": "ipython3",
   "version": "3.11.9"
  }
 },
 "nbformat": 4,
 "nbformat_minor": 5
}
